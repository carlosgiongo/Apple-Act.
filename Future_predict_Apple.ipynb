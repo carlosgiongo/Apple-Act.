{
  "nbformat": 4,
  "nbformat_minor": 0,
  "metadata": {
    "colab": {
      "name": "Future_predict_Apple",
      "provenance": [],
      "collapsed_sections": []
    },
    "kernelspec": {
      "name": "python3",
      "display_name": "Python 3"
    },
    "language_info": {
      "name": "python"
    }
  },
  "cells": [
    {
      "cell_type": "code",
      "metadata": {
        "id": "BGz13xVmg1Md"
      },
      "source": [
        "!pip install --upgrade pandas\n",
        "!pip install --upgrade pandas-datareader"
      ],
      "execution_count": null,
      "outputs": []
    },
    {
      "cell_type": "code",
      "metadata": {
        "id": "QfZz5R6qQDJl"
      },
      "source": [
        "import numpy as np\n",
        "import matplotlib.pyplot as plt\n",
        "import pandas as pd\n",
        "import pandas_datareader as web\n",
        "import datetime as dt\n",
        "\n",
        "from sklearn.preprocessing import MinMaxScaler\n",
        "from tensorflow.keras.models import Sequential\n",
        "from tensorflow.keras.layers import Dense, Dropout, LSTM"
      ],
      "execution_count": 1,
      "outputs": []
    },
    {
      "cell_type": "code",
      "metadata": {
        "id": "N8SqCxUPQnoa"
      },
      "source": [
        "#data = pd.read_csv('https://raw.githubusercontent.com/carlosgiongo/Apple-Act./main/full_apple.csv')\n",
        "start = dt.datetime(2012, 1, 1)\n",
        "end = dt.datetime(2021, 8, 28)\n",
        "data = web.DataReader('AAPL', 'yahoo', start, end)\n",
        "\n",
        "scaler = MinMaxScaler(feature_range=(0,1))\n",
        "scaled_data = scaler.fit_transform(data['Close'].values.reshape(-1,1))"
      ],
      "execution_count": 2,
      "outputs": []
    },
    {
      "cell_type": "code",
      "metadata": {
        "id": "QAudkABvR89S"
      },
      "source": [
        "prediction_days = 60\n",
        "\n",
        "x_train = []\n",
        "y_train = []\n",
        "\n",
        "for x in range(prediction_days, len(scaled_data)):\n",
        "  x_train.append(scaled_data[x-prediction_days:x, 0])\n",
        "  y_train.append(scaled_data[x, 0])\n",
        "\n",
        "x_train, y_train = np.array(x_train), np.array(y_train)\n",
        "x_train = np.reshape(x_train, (x_train.shape[0], x_train.shape[1], 1))"
      ],
      "execution_count": 3,
      "outputs": []
    },
    {
      "cell_type": "code",
      "metadata": {
        "colab": {
          "base_uri": "https://localhost:8080/"
        },
        "id": "RTBeJ2tjXHSs",
        "outputId": "3ccc1df4-4409-4160-9de9-6b9613ae0e9d"
      },
      "source": [
        "model = Sequential()\n",
        "\n",
        "model.add(LSTM(units=50, return_sequences=True, input_shape=(x_train.shape[1], 1)))\n",
        "model.add(Dropout(0.2))\n",
        "model.add(LSTM(units=50, return_sequences=True))\n",
        "model.add(Dropout(0.2))\n",
        "model.add(LSTM(units=50))\n",
        "model.add(Dropout(0.2))\n",
        "model.add(Dense(units=1))\n",
        "\n",
        "model.compile(optimizer='adam', loss='mean_squared_error')\n",
        "model.fit(x_train, y_train, epochs=25, batch_size=32)"
      ],
      "execution_count": 4,
      "outputs": [
        {
          "output_type": "stream",
          "text": [
            "Epoch 1/25\n",
            "75/75 [==============================] - 12s 92ms/step - loss: 0.0098\n",
            "Epoch 2/25\n",
            "75/75 [==============================] - 7s 91ms/step - loss: 0.0018\n",
            "Epoch 3/25\n",
            "75/75 [==============================] - 7s 91ms/step - loss: 0.0018\n",
            "Epoch 4/25\n",
            "75/75 [==============================] - 7s 93ms/step - loss: 0.0016\n",
            "Epoch 5/25\n",
            "75/75 [==============================] - 7s 91ms/step - loss: 0.0014\n",
            "Epoch 6/25\n",
            "75/75 [==============================] - 7s 90ms/step - loss: 0.0017\n",
            "Epoch 7/25\n",
            "75/75 [==============================] - 7s 91ms/step - loss: 0.0015\n",
            "Epoch 8/25\n",
            "75/75 [==============================] - 7s 92ms/step - loss: 0.0012\n",
            "Epoch 9/25\n",
            "75/75 [==============================] - 7s 93ms/step - loss: 0.0015\n",
            "Epoch 10/25\n",
            "75/75 [==============================] - 7s 91ms/step - loss: 0.0012\n",
            "Epoch 11/25\n",
            "75/75 [==============================] - 7s 92ms/step - loss: 0.0011\n",
            "Epoch 12/25\n",
            "75/75 [==============================] - 7s 91ms/step - loss: 0.0012\n",
            "Epoch 13/25\n",
            "75/75 [==============================] - 7s 92ms/step - loss: 0.0012\n",
            "Epoch 14/25\n",
            "75/75 [==============================] - 7s 92ms/step - loss: 0.0011\n",
            "Epoch 15/25\n",
            "75/75 [==============================] - 7s 93ms/step - loss: 0.0012\n",
            "Epoch 16/25\n",
            "75/75 [==============================] - 7s 93ms/step - loss: 0.0014\n",
            "Epoch 17/25\n",
            "75/75 [==============================] - 7s 92ms/step - loss: 9.4666e-04\n",
            "Epoch 18/25\n",
            "75/75 [==============================] - 7s 92ms/step - loss: 0.0010\n",
            "Epoch 19/25\n",
            "75/75 [==============================] - 7s 92ms/step - loss: 0.0012\n",
            "Epoch 20/25\n",
            "75/75 [==============================] - 7s 93ms/step - loss: 0.0010\n",
            "Epoch 21/25\n",
            "75/75 [==============================] - 7s 94ms/step - loss: 9.4172e-04\n",
            "Epoch 22/25\n",
            "75/75 [==============================] - 7s 93ms/step - loss: 8.4401e-04\n",
            "Epoch 23/25\n",
            "75/75 [==============================] - 7s 95ms/step - loss: 9.7096e-04\n",
            "Epoch 24/25\n",
            "75/75 [==============================] - 7s 92ms/step - loss: 7.9532e-04\n",
            "Epoch 25/25\n",
            "75/75 [==============================] - 7s 94ms/step - loss: 8.4740e-04\n"
          ],
          "name": "stdout"
        },
        {
          "output_type": "execute_result",
          "data": {
            "text/plain": [
              "<keras.callbacks.History at 0x7f5ac50ff890>"
            ]
          },
          "metadata": {},
          "execution_count": 4
        }
      ]
    },
    {
      "cell_type": "code",
      "metadata": {
        "id": "CGE_QCq5Yir8"
      },
      "source": [
        "#Teste de modelo\n",
        "data_teste = web.DataReader('AAPL', 'yahoo', start, end)\n",
        "pontos_atuais = data_teste['Close'].values\n",
        "total_dataset = pd.concat((data['Close'], data_teste['Close']), axis=0)\n",
        "\n",
        "model_inputs = total_dataset[len(total_dataset) - len(data_teste) - prediction_days:].values\n",
        "model_inputs = model_inputs.reshape(-1, 1)\n",
        "model_inputs = scaler.transform(model_inputs)"
      ],
      "execution_count": 10,
      "outputs": []
    },
    {
      "cell_type": "code",
      "metadata": {
        "id": "ZJj7blGnZmF0"
      },
      "source": [
        "x_test = []\n",
        "\n",
        "for x in range(prediction_days, len(model_inputs)):\n",
        "  x_test.append(model_inputs[x-prediction_days:x, 0])\n",
        "\n",
        "x_test = np.array(x_test)\n",
        "x_test = np.reshape(x_test, (x_test.shape[0], x_test.shape[1], 1))\n",
        "\n",
        "predicted_prices = model.predict(x_test)\n",
        "predicted_prices = scaler.inverse_transform(predicted_prices)"
      ],
      "execution_count": 11,
      "outputs": []
    },
    {
      "cell_type": "code",
      "metadata": {
        "colab": {
          "base_uri": "https://localhost:8080/",
          "height": 279
        },
        "id": "g-IyrSJdaQuM",
        "outputId": "73a34fe9-41dd-493c-ea97-d5d02cbb44b8"
      },
      "source": [
        "plt.plot(pontos_atuais, color=\"black\", label=f\"Atual\")\n",
        "plt.plot(predicted_prices, color='green', label=f'Previsao')\n",
        "plt.title=(f\"Pontos de mercado\")\n",
        "plt.xlabel('Tempo')\n",
        "plt.ylabel(f'Apple pontuacao')\n",
        "plt.legend()\n",
        "plt.show()"
      ],
      "execution_count": 12,
      "outputs": [
        {
          "output_type": "display_data",
          "data": {
            "image/png": "[encoded data removed]",
            "text/plain": [
              "<Figure size 432x288 with 1 Axes>"
            ]
          },
          "metadata": {
            "needs_background": "light"
          }
        }
      ]
    },
    {
      "cell_type": "code",
      "metadata": {
        "colab": {
          "base_uri": "https://localhost:8080/"
        },
        "id": "rF35W20BdWpt",
        "outputId": "b90dacc8-ac56-42d0-c804-6daaac2d8380"
      },
      "source": [
        "#Previsao do futuro (1 dia)\n",
        "real_data = [model_inputs[len(model_inputs) + 1 - prediction_days:len(model_inputs+1), 0]]\n",
        "real_data = np.array(real_data)\n",
        "real_data = np.reshape(real_data, (real_data.shape[0], real_data.shape[1],1))\n",
        "\n",
        "prediction = model.predict(real_data)\n",
        "prediction = scaler.inverse_transform(prediction)\n",
        "print(f'Previsao: {prediction}')"
      ],
      "execution_count": 13,
      "outputs": [
        {
          "output_type": "stream",
          "text": [
            "Previsao: [[138.6633]]\n"
          ],
          "name": "stdout"
        }
      ]
    }
  ]
}